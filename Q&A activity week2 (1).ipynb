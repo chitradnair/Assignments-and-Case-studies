{
 "cells": [
  {
   "cell_type": "markdown",
   "metadata": {
    "id": "4z_Z-K1tlrS7"
   },
   "source": [
    "## 1. Complete the following code to find the area of an equilateral triangle. Output should be as displayed"
   ]
  },
  {
   "cell_type": "code",
   "execution_count": 132,
   "metadata": {
    "id": "rP2qFD_SlrS_"
   },
   "outputs": [
    {
     "name": "stdout",
     "output_type": "stream",
     "text": [
      "Enter the side of the equilateral triangle: 5\n",
      "Area of the equilateral triangle with side 5.0 is 10.825317547305483\n"
     ]
    }
   ],
   "source": [
    "import math\n",
    "side = float(input(\"Enter the side of the equilateral triangle: \"))\n",
    "area = ((math.sqrt(3))/4)*pow(side,2)\n",
    "print(\"Area of the equilateral triangle with side\",side,'is',area)"
   ]
  },
  {
   "cell_type": "markdown",
   "metadata": {
    "id": "TjVKjIfclrTB"
   },
   "source": [
    "## 2. Write a program to count the number of each characters in a string"
   ]
  },
  {
   "cell_type": "code",
   "execution_count": 134,
   "metadata": {
    "id": "JY5seVUQlrTC"
   },
   "outputs": [
    {
     "name": "stdout",
     "output_type": "stream",
     "text": [
      "Enter a string\n",
      "Darshana\n",
      "Length of the string  Darshana is 8\n"
     ]
    }
   ],
   "source": [
    "sent=input(\"Enter a string\\n\")\n",
    "sent_length=0\n",
    "for i in sent:\n",
    "    sent_length+=1\n",
    "print(\"Length of the string \", sent,'is',sent_length)"
   ]
  },
  {
   "cell_type": "markdown",
   "metadata": {
    "id": "l3LCULfklrTD"
   },
   "source": [
    "## Write a program to find the area and perimeter of a rectangle using functions"
   ]
  },
  {
   "cell_type": "code",
   "execution_count": 2,
   "metadata": {
    "id": "8haQD8edlrTD"
   },
   "outputs": [
    {
     "name": "stdout",
     "output_type": "stream",
     "text": [
      "Enter the length of the rectangle\n",
      "2\n",
      "Enter the breadth of the rectangle\n",
      "3\n",
      "Area of the rectangle is 6\n",
      "\n",
      " Perimeter of the rectangle is 10\n"
     ]
    }
   ],
   "source": [
    "def rectarea(l,b):\n",
    "   return(l*b)\n",
    "def rectperimeter(l,b):\n",
    "   return(2*(l+b))\n",
    "length=int(input(\"Enter the length of the rectangle\\n\"))\n",
    "breadth= int(input(\"Enter the breadth of the rectangle\\n\"))\n",
    "Area= rectarea(length,breadth)\n",
    "perimeter= rectperimeter(length,breadth)\n",
    "print(\"Area of the rectangle is\",Area)\n",
    "print(\"\\n Perimeter of the rectangle is\", perimeter)"
   ]
  },
  {
   "cell_type": "markdown",
   "metadata": {
    "id": "JHK4ZdsflrTE"
   },
   "source": [
    "## 4. Write a program to print the fibonacci series till a specified number"
   ]
  },
  {
   "cell_type": "code",
   "execution_count": 4,
   "metadata": {
    "id": "LyBEj-4SlrTE"
   },
   "outputs": [
    {
     "name": "stdout",
     "output_type": "stream",
     "text": [
      "Enter the fibonacci series limit\n",
      "5\n",
      " The Finonacci series of limit 5 is\n",
      "0\n",
      "1\n",
      "1\n",
      "2\n",
      "3\n",
      "5\n"
     ]
    }
   ],
   "source": [
    "n=int(input(\"Enter the fibonacci series limit\\n\"))\n",
    "i=1\n",
    "print(\" The Finonacci series of limit\",n,'is')\n",
    "f1=0\n",
    "f2=1\n",
    "i=0\n",
    "print(f1)\n",
    "print(f2)\n",
    "while(i<=n-2):\n",
    " f3=f1+f2\n",
    " print(f3)\n",
    " f1=f2\n",
    " f2=f3\n",
    " i+=1"
   ]
  },
  {
   "cell_type": "markdown",
   "metadata": {
    "id": "u4uBUcQKlrTE"
   },
   "source": [
    "## 5. Complete the following code to find the minimum of 3 number using cinditional statements. Output should be as displayed"
   ]
  },
  {
   "cell_type": "code",
   "execution_count": 15,
   "metadata": {
    "id": "XdZwrZjIlrTF"
   },
   "outputs": [
    {
     "name": "stdout",
     "output_type": "stream",
     "text": [
      "Enter three numbers followed by  : 19 23 14\n",
      "First number : 19\n",
      "Second number : 23\n",
      "Third number : 14\n",
      "14  is smallest\n"
     ]
    }
   ],
   "source": [
    "a,b,c = input(\"Enter three numbers followed by  : \").split()\n",
    "\n",
    "print(\"First number :\",a)\n",
    "print(\"Second number :\",b)\n",
    "print(\"Third number :\",c)\n",
    "small=0\n",
    "\n",
    "if(a<b and a<c) :\n",
    "   small=a\n",
    "   print(a,\" is smallest\")\n",
    "    \n",
    "elif(b<a and b<c) :\n",
    "   small=b\n",
    "   print(b,\" is smallest\")\n",
    "    \n",
    "elif(c<a and c<b) :\n",
    "   small=c\n",
    "   print(c,\" is smallest\")\n",
    "    \n",
    "else:\n",
    "  print(\"Entered numbers are equal!!!\")\n",
    "\n",
    "    \n",
    "\n",
    "    \n",
    "\n",
    "    "
   ]
  },
  {
   "cell_type": "markdown",
   "metadata": {
    "id": "aR_CnToWlrTG"
   },
   "source": [
    "## 6. Write a program to print star pyramind. The number of rows should be taken as input from the user"
   ]
  },
  {
   "cell_type": "code",
   "execution_count": 128,
   "metadata": {
    "id": "M37A-buplrTG"
   },
   "outputs": [
    {
     "name": "stdout",
     "output_type": "stream",
     "text": [
      "Enter the no: of rows50\n",
      "                          *                        \n",
      "                         ***                       \n",
      "                        *****                      \n",
      "                       *******                     \n",
      "                      *********                    \n",
      "                     ***********                   \n",
      "                    *************                  \n",
      "                   ***************                 \n",
      "                  *****************                \n",
      "                 *******************               \n",
      "                *********************              \n",
      "               ***********************             \n",
      "              *************************            \n",
      "             ***************************           \n",
      "            *****************************          \n",
      "           *******************************         \n",
      "          *********************************        \n",
      "         ***********************************       \n",
      "        *************************************      \n",
      "       ***************************************     \n",
      "      *****************************************    \n",
      "     *******************************************   \n",
      "    *********************************************  \n",
      "   *********************************************** \n",
      "  *************************************************\n"
     ]
    }
   ],
   "source": [
    "n=int(input('Enter the no: of rows'))\n",
    "text=\" \"\n",
    "for x in range(1,n):\n",
    "    text=text +\"*\"\n",
    "    if x%2 != 0:\n",
    "        print(text.center(n+1))\n",
    "\n"
   ]
  },
  {
   "cell_type": "markdown",
   "metadata": {
    "id": "tlY6aFWBlrTH"
   },
   "source": [
    "## 7. Complete the following code to convert hour into seconds. Output should be as displayed"
   ]
  },
  {
   "cell_type": "code",
   "execution_count": 17,
   "metadata": {
    "id": "YOZQFk7FlrTH"
   },
   "outputs": [
    {
     "name": "stdout",
     "output_type": "stream",
     "text": [
      "Enter the time in Hours2\n",
      "2.0  Hour is equal to 7200.0  Seconds\n"
     ]
    }
   ],
   "source": [
    "def to_seconds(t):\n",
    "    \n",
    "    return (t*60*60)\n",
    "time_in_hours = float(input(\"Enter the time in Hours\"))\n",
    "print(time_in_hours ,\" Hour is equal to\" ,to_seconds(time_in_hours) ,\" Seconds\")"
   ]
  },
  {
   "cell_type": "markdown",
   "metadata": {
    "id": "CnYorNiLlrTI"
   },
   "source": [
    "## 8. Write a program to print multiplication table as below"
   ]
  },
  {
   "cell_type": "code",
   "execution_count": 21,
   "metadata": {
    "id": "dPQqDPuDlrTI"
   },
   "outputs": [
    {
     "name": "stdout",
     "output_type": "stream",
     "text": [
      "Enter the number for the multiplication table12\n",
      "\n",
      " The multiplication table of 12 is\n",
      "12 x 1 = 12\n",
      "12 x 2 = 24\n",
      "12 x 3 = 36\n",
      "12 x 4 = 48\n",
      "12 x 5 = 60\n",
      "12 x 6 = 72\n",
      "12 x 7 = 84\n",
      "12 x 8 = 96\n",
      "12 x 9 = 108\n",
      "12 x 10 = 120\n"
     ]
    }
   ],
   "source": [
    "num=int(input('Enter the number for the multiplication table'))\n",
    "multi=1\n",
    "print(\"\\n The multiplication table of\",num,'is')\n",
    "for i in range(1,11):\n",
    " multi= num*i\n",
    " print( num,'x',i,'=',multi)\n",
    " i+=1\n"
   ]
  },
  {
   "cell_type": "markdown",
   "metadata": {
    "id": "Fiaez8iblrTI"
   },
   "source": [
    "## 9. Write a program to take your 5 favorite food as list and print each as 'I like Biriyani'"
   ]
  },
  {
   "cell_type": "code",
   "execution_count": 131,
   "metadata": {
    "id": "39W1zFX7lrTJ"
   },
   "outputs": [
    {
     "name": "stdout",
     "output_type": "stream",
     "text": [
      "Enter no. of food items 5\n",
      "Enter the name of next food items.Pizza\n",
      "Enter the name of next food items. Burger\n",
      "Enter the name of next food items.Biriyani\n",
      "Enter the name of next food items.Fried Rice\n",
      "Enter the name of next food items.Noodles\n",
      "I like Pizza\n",
      "I like  Burger\n",
      "I like Biriyani\n",
      "I like Fried Rice\n",
      "I like Noodles\n"
     ]
    }
   ],
   "source": [
    "n= int(input(\"Enter no. of food items \"))\n",
    "a= []\n",
    "for x in range(n):\n",
    "    t=str(input('Enter the name of next food items.'))\n",
    "    a.append(t)\n",
    "for y in range(len(a)):\n",
    "    print(\"I like \"+a[y])"
   ]
  },
  {
   "cell_type": "markdown",
   "metadata": {
    "id": "3vlcDNNEP7d_"
   },
   "source": [
    "## 10. Find error(s) in the following code(if any) and rewrite code.\n",
    "\n"
   ]
  },
  {
   "cell_type": "code",
   "execution_count": 59,
   "metadata": {
    "id": "coREkcY3P9sG"
   },
   "outputs": [
    {
     "name": "stdout",
     "output_type": "stream",
     "text": [
      "Enter the value of x:34\n",
      "\n",
      " Enter the value of y :78\n",
      "They are unequal\n"
     ]
    }
   ],
   "source": [
    "x= int(input('Enter the value of x:'))\n",
    "y= int(input('\\n Enter the value of y :'))\n",
    "\n",
    "if x==y:\n",
    "    \n",
    " print('They are equal') \n",
    "else :\n",
    " print('They are unequal')\n",
    "       "
   ]
  },
  {
   "cell_type": "code",
   "execution_count": null,
   "metadata": {},
   "outputs": [],
   "source": []
  },
  {
   "cell_type": "code",
   "execution_count": null,
   "metadata": {},
   "outputs": [],
   "source": []
  }
 ],
 "metadata": {
  "colab": {
   "collapsed_sections": [],
   "name": "Q&A activity student file.ipynb",
   "provenance": []
  },
  "kernelspec": {
   "display_name": "Python 3",
   "language": "python",
   "name": "python3"
  },
  "language_info": {
   "codemirror_mode": {
    "name": "ipython",
    "version": 3
   },
   "file_extension": ".py",
   "mimetype": "text/x-python",
   "name": "python",
   "nbconvert_exporter": "python",
   "pygments_lexer": "ipython3",
   "version": "3.8.8"
  }
 },
 "nbformat": 4,
 "nbformat_minor": 1
}

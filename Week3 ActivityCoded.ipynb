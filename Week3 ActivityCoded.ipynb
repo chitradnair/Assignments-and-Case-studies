{
 "cells": [
  {
   "cell_type": "raw",
   "id": "20e1a7b0",
   "metadata": {},
   "source": [
    "#Week 3 _Activity Questions\n",
    "1. Write a python program to create an array and covert to a desired dimension, as shown in picture.\n",
    "image.png\n",
    "\n",
    "2. Create an array and extract particular set of elements from an array as shown in the picture.\n",
    "image.png\n",
    "\n",
    "3. Create a dataframe as shown below.\n",
    "image.png\n",
    "\n",
    "4.Read the given data set and answer the following questions. Show the steps taken to produce your final answer.\n",
    "Display the Glucose level and the Age for the samples having the index ranging from 45 to 60.\n",
    "How many patients in the data are having the blood pressure level above 120?\n",
    "Find the minimum and maximum value of insulin level in the data.\n",
    "Create a histogram of \"Age\".\n",
    "Create a scatter plot of \"BMI\" vs \"Glucose\"."
   ]
  },
  {
   "cell_type": "markdown",
   "id": "a489bfe7",
   "metadata": {},
   "source": [
    "# Answers to week3 Activity"
   ]
  },
  {
   "cell_type": "code",
   "execution_count": 1,
   "id": "41afa956",
   "metadata": {},
   "outputs": [],
   "source": [
    "import numpy as np\n",
    "import pandas as pd\n",
    "arr= np.array([8,9,10,11,12,13])"
   ]
  },
  {
   "cell_type": "code",
   "execution_count": 2,
   "id": "aa834c28",
   "metadata": {},
   "outputs": [
    {
     "data": {
      "text/plain": [
       "array([[ 8,  9, 10],\n",
       "       [11, 12, 13]])"
      ]
     },
     "execution_count": 2,
     "metadata": {},
     "output_type": "execute_result"
    }
   ],
   "source": [
    "arr1= arr.reshape(2,3)\n",
    "arr1"
   ]
  },
  {
   "cell_type": "markdown",
   "id": "21c79002",
   "metadata": {},
   "source": [
    "# Reshaping to 3x2"
   ]
  },
  {
   "cell_type": "code",
   "execution_count": 3,
   "id": "3dca22f4",
   "metadata": {},
   "outputs": [
    {
     "data": {
      "text/plain": [
       "array([[ 8,  9],\n",
       "       [10, 11],\n",
       "       [12, 13]])"
      ]
     },
     "execution_count": 3,
     "metadata": {},
     "output_type": "execute_result"
    }
   ],
   "source": [
    "arr2= arr1.reshape(3,2)\n",
    "arr2"
   ]
  },
  {
   "cell_type": "markdown",
   "id": "80e6ad42",
   "metadata": {},
   "source": [
    "# Printing 9,11 from the array"
   ]
  },
  {
   "cell_type": "code",
   "execution_count": 4,
   "id": "f905096e",
   "metadata": {},
   "outputs": [
    {
     "data": {
      "text/plain": [
       "array([ 9, 11])"
      ]
     },
     "execution_count": 4,
     "metadata": {},
     "output_type": "execute_result"
    }
   ],
   "source": [
    "arr2[0:2:,1]\n",
    "    "
   ]
  },
  {
   "cell_type": "markdown",
   "id": "c793f6ce",
   "metadata": {},
   "source": [
    "# Creating the data frame"
   ]
  },
  {
   "cell_type": "code",
   "execution_count": 5,
   "id": "6099417d",
   "metadata": {},
   "outputs": [],
   "source": [
    "Data={'Country':['Russia','Colombia','Chile','Equador','Nigeria'],'Rank':[121,40,100,130,11]}"
   ]
  },
  {
   "cell_type": "code",
   "execution_count": 6,
   "id": "3bd9f4ae",
   "metadata": {},
   "outputs": [
    {
     "data": {
      "text/plain": [
       "{'Country': ['Russia', 'Colombia', 'Chile', 'Equador', 'Nigeria'],\n",
       " 'Rank': [121, 40, 100, 130, 11]}"
      ]
     },
     "execution_count": 6,
     "metadata": {},
     "output_type": "execute_result"
    }
   ],
   "source": [
    "Data"
   ]
  },
  {
   "cell_type": "code",
   "execution_count": 7,
   "id": "d46439eb",
   "metadata": {},
   "outputs": [],
   "source": [
    "data=pd.DataFrame(Data)"
   ]
  },
  {
   "cell_type": "code",
   "execution_count": 8,
   "id": "0c7a3830",
   "metadata": {},
   "outputs": [
    {
     "data": {
      "text/html": [
       "<div>\n",
       "<style scoped>\n",
       "    .dataframe tbody tr th:only-of-type {\n",
       "        vertical-align: middle;\n",
       "    }\n",
       "\n",
       "    .dataframe tbody tr th {\n",
       "        vertical-align: top;\n",
       "    }\n",
       "\n",
       "    .dataframe thead th {\n",
       "        text-align: right;\n",
       "    }\n",
       "</style>\n",
       "<table border=\"1\" class=\"dataframe\">\n",
       "  <thead>\n",
       "    <tr style=\"text-align: right;\">\n",
       "      <th></th>\n",
       "      <th>Country</th>\n",
       "      <th>Rank</th>\n",
       "    </tr>\n",
       "  </thead>\n",
       "  <tbody>\n",
       "    <tr>\n",
       "      <th>0</th>\n",
       "      <td>Russia</td>\n",
       "      <td>121</td>\n",
       "    </tr>\n",
       "    <tr>\n",
       "      <th>1</th>\n",
       "      <td>Colombia</td>\n",
       "      <td>40</td>\n",
       "    </tr>\n",
       "    <tr>\n",
       "      <th>2</th>\n",
       "      <td>Chile</td>\n",
       "      <td>100</td>\n",
       "    </tr>\n",
       "    <tr>\n",
       "      <th>3</th>\n",
       "      <td>Equador</td>\n",
       "      <td>130</td>\n",
       "    </tr>\n",
       "    <tr>\n",
       "      <th>4</th>\n",
       "      <td>Nigeria</td>\n",
       "      <td>11</td>\n",
       "    </tr>\n",
       "  </tbody>\n",
       "</table>\n",
       "</div>"
      ],
      "text/plain": [
       "    Country  Rank\n",
       "0    Russia   121\n",
       "1  Colombia    40\n",
       "2     Chile   100\n",
       "3   Equador   130\n",
       "4   Nigeria    11"
      ]
     },
     "execution_count": 8,
     "metadata": {},
     "output_type": "execute_result"
    }
   ],
   "source": [
    "data"
   ]
  },
  {
   "cell_type": "markdown",
   "id": "e9b293c7",
   "metadata": {},
   "source": [
    "# Dataset Questions"
   ]
  },
  {
   "cell_type": "code",
   "execution_count": 9,
   "id": "a227a514",
   "metadata": {},
   "outputs": [],
   "source": [
    "import matplotlib.pyplot as plt\n",
    "import seaborn as sns\n",
    "modeldata= pd.read_csv('diabetes_model.csv')"
   ]
  },
  {
   "cell_type": "code",
   "execution_count": 10,
   "id": "986cf698",
   "metadata": {},
   "outputs": [
    {
     "data": {
      "text/html": [
       "<div>\n",
       "<style scoped>\n",
       "    .dataframe tbody tr th:only-of-type {\n",
       "        vertical-align: middle;\n",
       "    }\n",
       "\n",
       "    .dataframe tbody tr th {\n",
       "        vertical-align: top;\n",
       "    }\n",
       "\n",
       "    .dataframe thead th {\n",
       "        text-align: right;\n",
       "    }\n",
       "</style>\n",
       "<table border=\"1\" class=\"dataframe\">\n",
       "  <thead>\n",
       "    <tr style=\"text-align: right;\">\n",
       "      <th></th>\n",
       "      <th>Pregnancies</th>\n",
       "      <th>Glucose</th>\n",
       "      <th>BloodPressure</th>\n",
       "      <th>SkinThickness</th>\n",
       "      <th>Insulin</th>\n",
       "      <th>BMI</th>\n",
       "      <th>DiabetesPedigreeFunction</th>\n",
       "      <th>Age</th>\n",
       "      <th>Outcome</th>\n",
       "    </tr>\n",
       "  </thead>\n",
       "  <tbody>\n",
       "    <tr>\n",
       "      <th>0</th>\n",
       "      <td>5</td>\n",
       "      <td>77</td>\n",
       "      <td>82</td>\n",
       "      <td>41</td>\n",
       "      <td>42</td>\n",
       "      <td>35.8</td>\n",
       "      <td>0.156</td>\n",
       "      <td>35</td>\n",
       "      <td>0</td>\n",
       "    </tr>\n",
       "    <tr>\n",
       "      <th>1</th>\n",
       "      <td>9</td>\n",
       "      <td>122</td>\n",
       "      <td>56</td>\n",
       "      <td>0</td>\n",
       "      <td>0</td>\n",
       "      <td>33.3</td>\n",
       "      <td>1.114</td>\n",
       "      <td>33</td>\n",
       "      <td>1</td>\n",
       "    </tr>\n",
       "    <tr>\n",
       "      <th>2</th>\n",
       "      <td>0</td>\n",
       "      <td>113</td>\n",
       "      <td>76</td>\n",
       "      <td>0</td>\n",
       "      <td>0</td>\n",
       "      <td>33.3</td>\n",
       "      <td>0.278</td>\n",
       "      <td>23</td>\n",
       "      <td>1</td>\n",
       "    </tr>\n",
       "    <tr>\n",
       "      <th>3</th>\n",
       "      <td>1</td>\n",
       "      <td>139</td>\n",
       "      <td>62</td>\n",
       "      <td>41</td>\n",
       "      <td>480</td>\n",
       "      <td>40.7</td>\n",
       "      <td>0.536</td>\n",
       "      <td>21</td>\n",
       "      <td>0</td>\n",
       "    </tr>\n",
       "    <tr>\n",
       "      <th>4</th>\n",
       "      <td>10</td>\n",
       "      <td>161</td>\n",
       "      <td>68</td>\n",
       "      <td>23</td>\n",
       "      <td>132</td>\n",
       "      <td>25.5</td>\n",
       "      <td>0.326</td>\n",
       "      <td>47</td>\n",
       "      <td>1</td>\n",
       "    </tr>\n",
       "  </tbody>\n",
       "</table>\n",
       "</div>"
      ],
      "text/plain": [
       "   Pregnancies  Glucose  BloodPressure  SkinThickness  Insulin   BMI  \\\n",
       "0            5       77             82             41       42  35.8   \n",
       "1            9      122             56              0        0  33.3   \n",
       "2            0      113             76              0        0  33.3   \n",
       "3            1      139             62             41      480  40.7   \n",
       "4           10      161             68             23      132  25.5   \n",
       "\n",
       "   DiabetesPedigreeFunction  Age  Outcome  \n",
       "0                     0.156   35        0  \n",
       "1                     1.114   33        1  \n",
       "2                     0.278   23        1  \n",
       "3                     0.536   21        0  \n",
       "4                     0.326   47        1  "
      ]
     },
     "execution_count": 10,
     "metadata": {},
     "output_type": "execute_result"
    }
   ],
   "source": [
    "modeldata.head()"
   ]
  },
  {
   "cell_type": "markdown",
   "id": "3c2a3b87",
   "metadata": {},
   "source": [
    "# Display Glucose level and Age for the samples having index ranging 45 to 60"
   ]
  },
  {
   "cell_type": "code",
   "execution_count": 11,
   "id": "aa9f08d9",
   "metadata": {},
   "outputs": [],
   "source": [
    "slice_modeldata = modeldata[['Glucose','Age']]"
   ]
  },
  {
   "cell_type": "code",
   "execution_count": 12,
   "id": "114f76c2",
   "metadata": {},
   "outputs": [
    {
     "data": {
      "text/html": [
       "<div>\n",
       "<style scoped>\n",
       "    .dataframe tbody tr th:only-of-type {\n",
       "        vertical-align: middle;\n",
       "    }\n",
       "\n",
       "    .dataframe tbody tr th {\n",
       "        vertical-align: top;\n",
       "    }\n",
       "\n",
       "    .dataframe thead th {\n",
       "        text-align: right;\n",
       "    }\n",
       "</style>\n",
       "<table border=\"1\" class=\"dataframe\">\n",
       "  <thead>\n",
       "    <tr style=\"text-align: right;\">\n",
       "      <th></th>\n",
       "      <th>Glucose</th>\n",
       "      <th>Age</th>\n",
       "    </tr>\n",
       "  </thead>\n",
       "  <tbody>\n",
       "    <tr>\n",
       "      <th>45</th>\n",
       "      <td>137</td>\n",
       "      <td>21</td>\n",
       "    </tr>\n",
       "    <tr>\n",
       "      <th>46</th>\n",
       "      <td>145</td>\n",
       "      <td>70</td>\n",
       "    </tr>\n",
       "    <tr>\n",
       "      <th>47</th>\n",
       "      <td>113</td>\n",
       "      <td>22</td>\n",
       "    </tr>\n",
       "    <tr>\n",
       "      <th>48</th>\n",
       "      <td>96</td>\n",
       "      <td>27</td>\n",
       "    </tr>\n",
       "    <tr>\n",
       "      <th>49</th>\n",
       "      <td>131</td>\n",
       "      <td>26</td>\n",
       "    </tr>\n",
       "    <tr>\n",
       "      <th>50</th>\n",
       "      <td>113</td>\n",
       "      <td>21</td>\n",
       "    </tr>\n",
       "    <tr>\n",
       "      <th>51</th>\n",
       "      <td>120</td>\n",
       "      <td>34</td>\n",
       "    </tr>\n",
       "    <tr>\n",
       "      <th>52</th>\n",
       "      <td>95</td>\n",
       "      <td>24</td>\n",
       "    </tr>\n",
       "    <tr>\n",
       "      <th>53</th>\n",
       "      <td>155</td>\n",
       "      <td>46</td>\n",
       "    </tr>\n",
       "    <tr>\n",
       "      <th>54</th>\n",
       "      <td>100</td>\n",
       "      <td>46</td>\n",
       "    </tr>\n",
       "    <tr>\n",
       "      <th>55</th>\n",
       "      <td>184</td>\n",
       "      <td>49</td>\n",
       "    </tr>\n",
       "    <tr>\n",
       "      <th>56</th>\n",
       "      <td>90</td>\n",
       "      <td>29</td>\n",
       "    </tr>\n",
       "    <tr>\n",
       "      <th>57</th>\n",
       "      <td>142</td>\n",
       "      <td>61</td>\n",
       "    </tr>\n",
       "    <tr>\n",
       "      <th>58</th>\n",
       "      <td>125</td>\n",
       "      <td>27</td>\n",
       "    </tr>\n",
       "    <tr>\n",
       "      <th>59</th>\n",
       "      <td>101</td>\n",
       "      <td>26</td>\n",
       "    </tr>\n",
       "    <tr>\n",
       "      <th>60</th>\n",
       "      <td>188</td>\n",
       "      <td>22</td>\n",
       "    </tr>\n",
       "  </tbody>\n",
       "</table>\n",
       "</div>"
      ],
      "text/plain": [
       "    Glucose  Age\n",
       "45      137   21\n",
       "46      145   70\n",
       "47      113   22\n",
       "48       96   27\n",
       "49      131   26\n",
       "50      113   21\n",
       "51      120   34\n",
       "52       95   24\n",
       "53      155   46\n",
       "54      100   46\n",
       "55      184   49\n",
       "56       90   29\n",
       "57      142   61\n",
       "58      125   27\n",
       "59      101   26\n",
       "60      188   22"
      ]
     },
     "execution_count": 12,
     "metadata": {},
     "output_type": "execute_result"
    }
   ],
   "source": [
    "slice_modeldata[45:61]"
   ]
  },
  {
   "cell_type": "markdown",
   "id": "5953d092",
   "metadata": {},
   "source": [
    "# Patients with BP level above 120"
   ]
  },
  {
   "cell_type": "code",
   "execution_count": 31,
   "id": "a66ba416",
   "metadata": {},
   "outputs": [
    {
     "data": {
      "text/html": [
       "<div>\n",
       "<style scoped>\n",
       "    .dataframe tbody tr th:only-of-type {\n",
       "        vertical-align: middle;\n",
       "    }\n",
       "\n",
       "    .dataframe tbody tr th {\n",
       "        vertical-align: top;\n",
       "    }\n",
       "\n",
       "    .dataframe thead th {\n",
       "        text-align: right;\n",
       "    }\n",
       "</style>\n",
       "<table border=\"1\" class=\"dataframe\">\n",
       "  <thead>\n",
       "    <tr style=\"text-align: right;\">\n",
       "      <th></th>\n",
       "      <th>Pregnancies</th>\n",
       "      <th>Glucose</th>\n",
       "      <th>BloodPressure</th>\n",
       "      <th>SkinThickness</th>\n",
       "      <th>Insulin</th>\n",
       "      <th>BMI</th>\n",
       "      <th>DiabetesPedigreeFunction</th>\n",
       "      <th>Age</th>\n",
       "      <th>Outcome</th>\n",
       "    </tr>\n",
       "  </thead>\n",
       "  <tbody>\n",
       "    <tr>\n",
       "      <th>48</th>\n",
       "      <td>1</td>\n",
       "      <td>96</td>\n",
       "      <td>122</td>\n",
       "      <td>0</td>\n",
       "      <td>0</td>\n",
       "      <td>22.4</td>\n",
       "      <td>0.207</td>\n",
       "      <td>27</td>\n",
       "      <td>0</td>\n",
       "    </tr>\n",
       "  </tbody>\n",
       "</table>\n",
       "</div>"
      ],
      "text/plain": [
       "    Pregnancies  Glucose  BloodPressure  SkinThickness  Insulin   BMI  \\\n",
       "48            1       96            122              0        0  22.4   \n",
       "\n",
       "    DiabetesPedigreeFunction  Age  Outcome  \n",
       "48                     0.207   27        0  "
      ]
     },
     "execution_count": 31,
     "metadata": {},
     "output_type": "execute_result"
    }
   ],
   "source": [
    " modeldata.loc[modeldata['BloodPressure']>120]\n",
    "      "
   ]
  },
  {
   "cell_type": "markdown",
   "id": "91bbfca0",
   "metadata": {},
   "source": [
    "# Finding maximum and minimum values of insulin column"
   ]
  },
  {
   "cell_type": "code",
   "execution_count": 24,
   "id": "fd6f70ec",
   "metadata": {},
   "outputs": [
    {
     "name": "stdout",
     "output_type": "stream",
     "text": [
      "The max value of column insulin is  846\n",
      "The minimum value of column insulin is 0\n"
     ]
    }
   ],
   "source": [
    "column= modeldata['Insulin']\n",
    "p=column.max()\n",
    "q=column.min()\n",
    "print(\"The max value of column insulin is \", p)\n",
    "print('The minimum value of column insulin is',q)"
   ]
  },
  {
   "cell_type": "markdown",
   "id": "b5d28160",
   "metadata": {},
   "source": [
    "# Histogram of Age"
   ]
  },
  {
   "cell_type": "code",
   "execution_count": 26,
   "id": "b6907263",
   "metadata": {},
   "outputs": [
    {
     "data": {
      "text/plain": [
       "(array([244., 122.,  67.,  70.,  46.,  28.,  20.,  13.,   3.,   1.]),\n",
       " array([21., 27., 33., 39., 45., 51., 57., 63., 69., 75., 81.]),\n",
       " <BarContainer object of 10 artists>)"
      ]
     },
     "execution_count": 26,
     "metadata": {},
     "output_type": "execute_result"
    },
    {
     "data": {
      "image/png": "[encoded data removed]",
      "text/plain": [
       "<Figure size 648x648 with 1 Axes>"
      ]
     },
     "metadata": {
      "needs_background": "light"
     },
     "output_type": "display_data"
    }
   ],
   "source": [
    "plt.figure(figsize=(9,9))\n",
    "plt.hist(modeldata['Age'],color='Green',rwidth=0.9)"
   ]
  },
  {
   "cell_type": "markdown",
   "id": "5ea90a67",
   "metadata": {},
   "source": [
    "# Scatter plot of BMI Vs Glucose"
   ]
  },
  {
   "cell_type": "code",
   "execution_count": 28,
   "id": "fa6e5886",
   "metadata": {},
   "outputs": [
    {
     "data": {
      "text/plain": [
       "Text(0, 0.5, 'Glucose')"
      ]
     },
     "execution_count": 28,
     "metadata": {},
     "output_type": "execute_result"
    },
    {
     "data": {
      "image/png": "[encoded data removed]",
      "text/plain": [
       "<Figure size 432x288 with 1 Axes>"
      ]
     },
     "metadata": {
      "needs_background": "light"
     },
     "output_type": "display_data"
    }
   ],
   "source": [
    "plt.scatter(modeldata['BMI'],modeldata['Glucose'],s=12,c='Red')\n",
    "plt.title('Scatter Plot of BMI Vs Glucose',fontsize=18)\n",
    "plt.xlabel('BMI',fontsize=14)\n",
    "plt.ylabel('Glucose',fontsize=14)\n"
   ]
  }
 ],
 "metadata": {
  "kernelspec": {
   "display_name": "Python 3",
   "language": "python",
   "name": "python3"
  },
  "language_info": {
   "codemirror_mode": {
    "name": "ipython",
    "version": 3
   },
   "file_extension": ".py",
   "mimetype": "text/x-python",
   "name": "python",
   "nbconvert_exporter": "python",
   "pygments_lexer": "ipython3",
   "version": "3.8.8"
  }
 },
 "nbformat": 4,
 "nbformat_minor": 5
}
